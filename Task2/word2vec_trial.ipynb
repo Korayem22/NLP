{
 "cells": [
  {
   "cell_type": "code",
   "execution_count": 1,
   "id": "afc31ce4",
   "metadata": {},
   "outputs": [
    {
     "name": "stdout",
     "output_type": "stream",
     "text": [
      "Collecting gensim\n",
      "  Downloading gensim-4.3.3-cp311-cp311-macosx_11_0_arm64.whl.metadata (8.1 kB)\n",
      "Requirement already satisfied: numpy<2.0,>=1.18.5 in /Users/mohamedkorayem/anaconda3/envs/ITI/lib/python3.11/site-packages (from gensim) (1.26.0)\n",
      "Collecting scipy<1.14.0,>=1.7.0 (from gensim)\n",
      "  Downloading scipy-1.13.1-cp311-cp311-macosx_12_0_arm64.whl.metadata (60 kB)\n",
      "Collecting smart-open>=1.8.1 (from gensim)\n",
      "  Downloading smart_open-7.1.0-py3-none-any.whl.metadata (24 kB)\n",
      "Requirement already satisfied: wrapt in /Users/mohamedkorayem/anaconda3/envs/ITI/lib/python3.11/site-packages (from smart-open>=1.8.1->gensim) (1.17.2)\n",
      "Downloading gensim-4.3.3-cp311-cp311-macosx_11_0_arm64.whl (24.0 MB)\n",
      "\u001b[2K   \u001b[90m━━━━━━━━━━━━━━━━━━━━━━━━━━━━━━━━━━━━━━━━\u001b[0m \u001b[32m24.0/24.0 MB\u001b[0m \u001b[31m426.7 kB/s\u001b[0m eta \u001b[36m0:00:00\u001b[0m00:01\u001b[0m00:02\u001b[0m\n",
      "\u001b[?25hDownloading scipy-1.13.1-cp311-cp311-macosx_12_0_arm64.whl (30.3 MB)\n",
      "\u001b[2K   \u001b[90m━━━━━━━━━━━━━━━━━━━━━━━━━━━━━━━━━━━━━━━━\u001b[0m \u001b[32m30.3/30.3 MB\u001b[0m \u001b[31m540.2 kB/s\u001b[0m eta \u001b[36m0:00:00\u001b[0m00:01\u001b[0m00:02\u001b[0m\n",
      "\u001b[?25hDownloading smart_open-7.1.0-py3-none-any.whl (61 kB)\n",
      "Installing collected packages: smart-open, scipy, gensim\n",
      "  Attempting uninstall: scipy\n",
      "    Found existing installation: scipy 1.14.1\n",
      "    Uninstalling scipy-1.14.1:\n",
      "      Successfully uninstalled scipy-1.14.1\n",
      "Successfully installed gensim-4.3.3 scipy-1.13.1 smart-open-7.1.0\n",
      "\n",
      "\u001b[1m[\u001b[0m\u001b[34;49mnotice\u001b[0m\u001b[1;39;49m]\u001b[0m\u001b[39;49m A new release of pip is available: \u001b[0m\u001b[31;49m25.0.1\u001b[0m\u001b[39;49m -> \u001b[0m\u001b[32;49m25.1\u001b[0m\n",
      "\u001b[1m[\u001b[0m\u001b[34;49mnotice\u001b[0m\u001b[1;39;49m]\u001b[0m\u001b[39;49m To update, run: \u001b[0m\u001b[32;49mpip install --upgrade pip\u001b[0m\n"
     ]
    }
   ],
   "source": [
    "!pip install gensim"
   ]
  },
  {
   "cell_type": "code",
   "execution_count": 5,
   "id": "7df3fbc9",
   "metadata": {},
   "outputs": [],
   "source": [
    "import gensim\n",
    "import gensim.downloader\n",
    "import numpy as np\n"
   ]
  },
  {
   "cell_type": "code",
   "execution_count": 6,
   "id": "c711c20d",
   "metadata": {},
   "outputs": [
    {
     "name": "stdout",
     "output_type": "stream",
     "text": [
      "[==================================================] 100.0% 128.1/128.1MB downloaded\n"
     ]
    }
   ],
   "source": [
    "model = gensim.downloader.load('glove-wiki-gigaword-100')"
   ]
  },
  {
   "cell_type": "code",
   "execution_count": 16,
   "id": "602004a7",
   "metadata": {},
   "outputs": [],
   "source": [
    "my_words = ['engineer','doctor','city','king','cat']"
   ]
  },
  {
   "cell_type": "code",
   "execution_count": 19,
   "id": "01b11451",
   "metadata": {},
   "outputs": [
    {
     "data": {
      "text/plain": [
       "[('doctor', 0.9031437635421753),\n",
       " ('nurse', 0.8411440849304199),\n",
       " ('surgery', 0.8338705897331238),\n",
       " ('hospital', 0.7767568826675415),\n",
       " ('surgeon', 0.7715042233467102)]"
      ]
     },
     "execution_count": 19,
     "metadata": {},
     "output_type": "execute_result"
    }
   ],
   "source": [
    "def CBOW(model,my_words):\n",
    "    avg_vector = np.mean([model[word] for word in my_words], axis=0)\n",
    "    return model.similar_by_vector(avg_vector, topn=5)\n",
    "CBOW(model,[\"nurse\",\"doctor\",'surgery'])"
   ]
  },
  {
   "cell_type": "code",
   "execution_count": 15,
   "id": "3c1e9d10",
   "metadata": {},
   "outputs": [
    {
     "data": {
      "text/plain": [
       "[[('engineers', 0.7049852609634399),\n",
       "  ('technician', 0.7031463980674744),\n",
       "  ('mechanic', 0.669628381729126),\n",
       "  ('engineering', 0.6665581464767456),\n",
       "  ('architect', 0.6495680212974548)],\n",
       " [('woman', 0.832349419593811),\n",
       "  ('boy', 0.7914870977401733),\n",
       "  ('one', 0.7788748741149902),\n",
       "  ('person', 0.7526816725730896),\n",
       "  ('another', 0.752223551273346)],\n",
       " [('work', 0.8548163175582886),\n",
       "  ('art', 0.7471708655357361),\n",
       "  ('well', 0.7358497381210327),\n",
       "  ('collection', 0.7353091239929199),\n",
       "  ('painting', 0.7054454684257507)],\n",
       " [('store', 0.8456091284751892),\n",
       "  ('shops', 0.8170180320739746),\n",
       "  ('grocery', 0.7608219385147095),\n",
       "  ('restaurant', 0.7480157017707825),\n",
       "  ('garage', 0.7109121680259705)],\n",
       " [('tools', 0.8297438621520996),\n",
       "  ('useful', 0.7028992772102356),\n",
       "  ('method', 0.6929633021354675),\n",
       "  ('methods', 0.6888384222984314),\n",
       "  ('software', 0.6639991998672485)]]"
      ]
     },
     "execution_count": 15,
     "metadata": {},
     "output_type": "execute_result"
    }
   ],
   "source": [
    "def skipgram(model,my_words):\n",
    "    result = []\n",
    "    for word in my_words:\n",
    "        result.append(model.most_similar(word,topn=5))\n",
    "    return result\n",
    "skipgram(model,my_words)"
   ]
  },
  {
   "cell_type": "code",
   "execution_count": null,
   "id": "9e25eb45",
   "metadata": {},
   "outputs": [],
   "source": []
  }
 ],
 "metadata": {
  "kernelspec": {
   "display_name": "ITI",
   "language": "python",
   "name": "python3"
  },
  "language_info": {
   "codemirror_mode": {
    "name": "ipython",
    "version": 3
   },
   "file_extension": ".py",
   "mimetype": "text/x-python",
   "name": "python",
   "nbconvert_exporter": "python",
   "pygments_lexer": "ipython3",
   "version": "3.11.11"
  }
 },
 "nbformat": 4,
 "nbformat_minor": 5
}
